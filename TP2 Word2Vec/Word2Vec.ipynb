{
 "cells": [
  {
   "cell_type": "markdown",
   "id": "7ddfca16",
   "metadata": {},
   "source": [
    "<h1> GI5 <center> Word2Vec </center> By Ammari Youssef"
   ]
  },
  {
   "cell_type": "markdown",
   "id": "97e199c6",
   "metadata": {},
   "source": [
    "## <font color=red> Chargement du text "
   ]
  },
  {
   "cell_type": "code",
   "execution_count": 1,
   "id": "4f0b0cb1",
   "metadata": {},
   "outputs": [
    {
     "data": {
      "text/plain": [
       "'**Morocco and Marrakech: A Tapestry of Tradition and Modernity** Morocco, located at the crossroads of Europe and Africa, is a country drenched in history, mystery, and cultural richness. A testament to the ancient civilizations that once flourished here, this North African kingdom boasts a unique blend of Arab, Berber, and European influences. At the heart of Morocco\\'s rich tapestry lies Marrakech, one of its four imperial cities and a vibrant epicenter of tradition and modernity. **Geographical Significance** Morocco is bordered by the Atlantic Ocean to the west, the Mediterranean Sea to the north, Algeria to the east and southeast, and the vast Sahara desert to the south. Its strategic location has historically made it a sought-after territory and a melting pot of cultures, religions, and trade routes. **Marrakech: The Red City** Marrakech, often referred to as \"The Red City\" due to its distinctive red-hued buildings, stands against the backdrop of the snow-capped Atlas Mountains. Established in the 11th century, it has remained a crucial political, economic, and cultural center of Morocco. **Journey through the Medina** Marrakech\\'s old town, the Medina, is a UNESCO World Heritage site and a labyrinthine maze of narrow alleys, bustling souks, and historical landmarks. The Djemaa el-Fna Square lies at the heart of the Medina and comes alive every evening with storytellers, musicians, snake charmers, and food stalls offering tantalizing Moroccan delicacies. **Palaces and Gardens** The city is also home to grand palaces like the Bahia Palace, showcasing intricate Islamic architecture, and the Saadian Tombs, remnants of the Saadian dynasty. The Majorelle Garden, restored by the fashion designer Yves Saint Laurent, is a tranquil oasis of cacti, palm trees, and cobalt blue accents. **Modern Marrakech** While tradition and history permeate Marrakech, the city is not averse to the modern world. Gueliz, the new town, is brimming with contemporary art galleries, stylish cafes, and chic boutiques, offering a stark contrast to the ancient Medina. **Moroccan Cuisine** No journey through Morocco and Marrakech would be complete without indulging in the local cuisine. Tagines, couscous, and pastilla are just a few of the many dishes that combine a plethora of flavors and spices like saffron, cumin, and mint. Paired with Moroccan mint tea, the culinary experience is truly unparalleled. **In Conclusion** Morocco, with Marrakech at its heart, offers travelers an unparalleled journey through time. The convergence of history, culture, architecture, and gastronomy makes it an enthralling destination for those seeking both adventure and reflection. As the Moroccan proverb goes, \"He who does not travel does not know the value of men.\" In the case of Morocco and Marrakech, it\\'s not just the value of men, but also the value of time, tradition, and tales that have spanned centuries.'"
      ]
     },
     "execution_count": 1,
     "metadata": {},
     "output_type": "execute_result"
    }
   ],
   "source": [
    "with open(\"text\", \"r\", encoding=\"utf-8\") as file:\n",
    "    corpus = file.read()\n",
    "\n",
    "corpus"
   ]
  },
  {
   "cell_type": "code",
   "execution_count": 2,
   "id": "18b5ec2b",
   "metadata": {},
   "outputs": [],
   "source": [
    "import re\n",
    "import nltk\n",
    "from nltk.tokenize import word_tokenize\n",
    "from nltk.corpus import stopwords\n",
    "# nltk.download(\"stopwords\") #in case you dont have that pack installed uncomment this\n",
    "\n",
    "def preprocess_text(text):\n",
    "    # Remove punctuation and non-alphabetic characters\n",
    "    text = re.sub(r'[^a-zA-Z\\s]', '', text)\n",
    "\n",
    "    # Remove extra spaces\n",
    "    text = ' '.join(text.split())\n",
    "\n",
    "    # Remove common stop words\n",
    "    stop_words = set(stopwords.words(\"english\"))\n",
    "    words = text.split()\n",
    "    words = [word for word in words if word.lower() not in stop_words]\n",
    "\n",
    "    text = ' '.join(words)\n",
    "\n",
    "    return text\n"
   ]
  },
  {
   "cell_type": "code",
   "execution_count": 3,
   "id": "3c2a26d5",
   "metadata": {},
   "outputs": [],
   "source": [
    "#If you would like to see the cleaned text uncomment this \n",
    "#print(\"Clean text:\") \n",
    "#preprocess_text(corpus)"
   ]
  },
  {
   "cell_type": "markdown",
   "id": "26f47465",
   "metadata": {},
   "source": [
    "## <font color=red> 1- Extraire la représentation vectorielle d'un mot "
   ]
  },
  {
   "cell_type": "code",
   "execution_count": 4,
   "id": "d88f33ac",
   "metadata": {},
   "outputs": [],
   "source": [
    "from gensim.models import Word2Vec\n",
    "from nltk.tokenize import word_tokenize\n",
    "\n",
    "text = preprocess_text(corpus)\n",
    "\n",
    "# Tokenize the text\n",
    "tokenized_text = [word_tokenize(sentence.lower()) for sentence in nltk.sent_tokenize(text)]\n",
    "\n",
    "# Train a Word2Vec model\n",
    "model = Word2Vec(\n",
    "    sentences=tokenized_text,\n",
    "    vector_size=100,  # Dimensionality of the word vectors\n",
    "    window=5,  # Maximum distance between the current and predicted word\n",
    "    min_count=1,  # Ignores words with a lower frequency\n",
    "    #  workers=4, #Number of cores to train your model in case 3ndk alot of data\n",
    "    sg=0,  # Use CBOW (Continuous Bag of Words) model\n",
    ")"
   ]
  },
  {
   "cell_type": "code",
   "execution_count": 5,
   "id": "a05f63a9",
   "metadata": {},
   "outputs": [
    {
     "name": "stdout",
     "output_type": "stream",
     "text": [
      "Vector for 'morocco': \n",
      " [-8.6472519e-03  3.7022051e-03  5.2298638e-03  5.7971776e-03\n",
      "  7.4651819e-03 -6.2716431e-03  1.1655723e-03  6.1815940e-03\n",
      " -2.9398114e-03 -6.2152562e-03 -4.2627673e-04 -8.4760478e-03\n",
      " -5.6031807e-03  7.1676252e-03  3.3061036e-03  7.2263991e-03\n",
      "  6.8312166e-03  7.4489717e-03 -3.7831024e-03 -6.9906359e-04\n",
      "  2.3481403e-03 -4.5249444e-03  8.3663873e-03 -9.9296588e-03\n",
      "  6.7240391e-03  2.9194178e-03 -4.9838289e-03  4.3505430e-03\n",
      " -1.8170481e-03  6.7009698e-03  1.0041461e-02 -4.3190862e-03\n",
      " -5.7711982e-04 -5.7008178e-03  3.8231157e-03  2.8640798e-03\n",
      "  6.9472939e-03  6.0402821e-03  9.5181642e-03  9.1834543e-03\n",
      "  7.8835459e-03 -7.1002296e-03 -9.1554699e-03 -3.1328437e-04\n",
      " -3.0460896e-03  7.9122577e-03  5.9418115e-03 -1.5955773e-03\n",
      "  1.5655381e-03  1.8683180e-03  7.8693302e-03 -9.5693478e-03\n",
      " -1.5296735e-04  3.4649496e-03 -9.7710756e-04  8.4763141e-03\n",
      "  9.0480093e-03  6.5538180e-03 -7.9990056e-04  7.7587515e-03\n",
      " -8.5516144e-03  3.2603161e-03 -4.6392307e-03 -5.1214560e-03\n",
      "  3.4968657e-03  5.4107485e-03  7.8032906e-03 -5.6881681e-03\n",
      "  7.3542669e-03  6.6989874e-03 -3.7806595e-03 -8.7535232e-03\n",
      "  5.4981760e-03  6.4538671e-03 -6.6329661e-04 -6.6475910e-03\n",
      " -7.0812763e-03 -2.5283042e-03  5.0665699e-03 -3.6177337e-03\n",
      " -9.4254259e-03  3.8763655e-03  4.7727921e-03 -6.2992456e-03\n",
      "  1.1963894e-03 -2.0994775e-03  8.2774182e-05 -9.7922115e-03\n",
      "  2.7780992e-03 -4.7410261e-03  1.1678413e-03 -1.4925406e-03\n",
      "  2.1827845e-03 -7.8149466e-03 -2.5939012e-03  2.7505474e-03\n",
      "  5.3767511e-03 -2.4342397e-03 -9.4975354e-03  4.5100302e-03]\n",
      "shape of the vector is :   (100,)\n"
     ]
    }
   ],
   "source": [
    "# Access a word vector\n",
    "word = \"morocco\"\n",
    "vector = model.wv[word]\n",
    "print(f\"Vector for '{word}': \\n {vector}\")\n",
    "\n",
    "print(\"shape of the vector is :  \", vector.shape)\n"
   ]
  },
  {
   "cell_type": "markdown",
   "id": "debe4fea",
   "metadata": {},
   "source": [
    "## <font color=red> 2- Calculer la similarité entre deux mots "
   ]
  },
  {
   "cell_type": "code",
   "execution_count": 6,
   "id": "6f00da67",
   "metadata": {},
   "outputs": [
    {
     "name": "stdout",
     "output_type": "stream",
     "text": [
      "Similarity between 'morocco' and 'marrakech': -0.007406279444694519\n"
     ]
    }
   ],
   "source": [
    "# Calculate the similarity between two words\n",
    "word1 = \"morocco\"\n",
    "word2 = \"marrakech\"\n",
    "\n",
    "if word1 in model.wv and word2 in model.wv:\n",
    "    similarity = model.wv.similarity(word1, word2)\n",
    "    print(f\"Similarity between '{word1}' and '{word2}': {similarity}\")\n",
    "else:\n",
    "    print(f\"One or both of the words are not in the model's vocabulary.\")"
   ]
  },
  {
   "cell_type": "markdown",
   "id": "eba29726",
   "metadata": {},
   "source": [
    "## <font color=red>3- Extraire les mots contextuels (les plus similaires) pour un mot central donné"
   ]
  },
  {
   "cell_type": "code",
   "execution_count": 7,
   "id": "c1ab2913",
   "metadata": {},
   "outputs": [
    {
     "name": "stdout",
     "output_type": "stream",
     "text": [
      "Words similar to 'morocco':\n",
      " [('goes', 0.21631602942943573), ('dynasty', 0.18923886120319366), ('town', 0.18916480243206024), ('red', 0.18910154700279236), ('mediterranean', 0.18437491357326508)]\n"
     ]
    }
   ],
   "source": [
    "# Find similar words\n",
    "similar_words = model.wv.most_similar(word, topn=5)\n",
    "print(f\"Words similar to '{word}':\\n {similar_words}\")"
   ]
  },
  {
   "cell_type": "markdown",
   "id": "ea388bb6",
   "metadata": {},
   "source": [
    "# <center> Fin"
   ]
  }
 ],
 "metadata": {
  "kernelspec": {
   "display_name": "Python 3 (ipykernel)",
   "language": "python",
   "name": "python3"
  },
  "language_info": {
   "codemirror_mode": {
    "name": "ipython",
    "version": 3
   },
   "file_extension": ".py",
   "mimetype": "text/x-python",
   "name": "python",
   "nbconvert_exporter": "python",
   "pygments_lexer": "ipython3",
   "version": "3.9.13"
  }
 },
 "nbformat": 4,
 "nbformat_minor": 5
}
